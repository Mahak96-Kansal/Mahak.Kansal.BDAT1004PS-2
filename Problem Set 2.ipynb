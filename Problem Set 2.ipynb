{
 "cells": [
  {
   "cell_type": "markdown",
   "id": "243b55bd",
   "metadata": {},
   "source": [
    "# Question:1"
   ]
  },
  {
   "cell_type": "markdown",
   "id": "1270d8cd",
   "metadata": {},
   "source": [
    "Consider the following Python module:\n",
    "a = 0 \n",
    "\n",
    "def b():\n",
    "global a\n",
    "a = c(a)\n",
    "\n",
    "def c(a):\n",
    "return a + 2\n",
    "After importing the module into the interpreter, you execute:\n",
    ">>> b()\n",
    ">>> b()\n",
    ">>> b()\n",
    ">>> a\n",
    "?\n",
    "\n",
    "What value is displayed when the last expression (a) is evaluated? Explain your answer by indicating what happens in every executed statement."
   ]
  },
  {
   "cell_type": "markdown",
   "id": "5d816007",
   "metadata": {},
   "source": [
    "Answer Code:"
   ]
  },
  {
   "cell_type": "code",
   "execution_count": 30,
   "id": "71f66a90",
   "metadata": {},
   "outputs": [
    {
     "data": {
      "text/plain": [
       "6"
      ]
     },
     "execution_count": 30,
     "metadata": {},
     "output_type": "execute_result"
    }
   ],
   "source": [
    "a= 0 \n",
    "def b():\n",
    "    global a\n",
    "    a = c(a)\n",
    "    \n",
    "def c(a):\n",
    "    return a + 2\n",
    "\n",
    "b()\n",
    "b()\n",
    "b()\n",
    "a"
   ]
  },
  {
   "cell_type": "markdown",
   "id": "34f6d531",
   "metadata": {},
   "source": [
    "Answer Explanation:\n",
    "\n",
    "1)\n",
    "The code starts with a = 0, so initially, a is set to 0 in the global scope.\n",
    "\n",
    "2)\n",
    "First call to b(), then inside b(), the global variable a is accessed.\n",
    "a is then updated to c(a), where c(a) is c(0).\n",
    "c(0) returns 0 + 2 = 2\n",
    "So, now a = 2\n",
    "\n",
    "3)\n",
    "Second call to b(), then inside b(), the global variable a is accessed.\n",
    "a is then updated to c(a), where c(a) is c(2).\n",
    "c(2) returns 2 + 2 = 4\n",
    "Now, a = 4\n",
    "\n",
    "4)\n",
    "once again, b() is called, then inside b(), the global variable a is accessed.\n",
    "a is then updated to c(a), where c(a) is c(4).\n",
    "c(4) returns 4 + 2 = 6\n",
    "Now, a = 6\n",
    "\n",
    "5)\n",
    "In the final output, the value displayed for a = 6"
   ]
  },
  {
   "cell_type": "markdown",
   "id": "fbdedca6",
   "metadata": {},
   "source": [
    "# Question:2"
   ]
  },
  {
   "cell_type": "markdown",
   "id": "52248d3b",
   "metadata": {},
   "source": [
    "Function fileLength(), given to you, takes the name of a file as input and returns the length of the file:\n",
    ">>> fileLength('midterm.py') 284\n",
    ">>> fileLength('idterm.py') Traceback (most recent call last):\n",
    "File \"<pyshell#34>\", line 1, in <module> fileLength('idterm.py')\n",
    "File \"/Users/me/midterm.py\", line 3, in fileLength infile = open(filename)\n",
    "FileNotFoundError: [Errno 2] No such file or directory: 'idterm.py'\n",
    "As shown above, if the file cannot be found by the interpreter or if it cannot be read as a text file, an exception will be raised. Modify function fileLength() so that a friendly message is printed instead:\n",
    ">>> fileLength('midterm.py') 358\n",
    ">>> fileLength('idterm.py') File idterm.py not found."
   ]
  },
  {
   "cell_type": "markdown",
   "id": "a7a54fa1",
   "metadata": {},
   "source": [
    "Answer code:\n"
   ]
  },
  {
   "cell_type": "code",
   "execution_count": 85,
   "id": "c6b591a8",
   "metadata": {},
   "outputs": [],
   "source": [
    "def file_length(file_name):\n",
    "    try:\n",
    "        file = open(file_name)\n",
    "        contents = file.read()\n",
    "        file.close()\n",
    "        print(len(contents))\n",
    "    except FileNotFoundError:\n",
    "        print(f\"File {file_name} not found.\")"
   ]
  },
  {
   "cell_type": "code",
   "execution_count": 88,
   "id": "5c6202fb",
   "metadata": {},
   "outputs": [
    {
     "name": "stdout",
     "output_type": "stream",
     "text": [
      "File midterm.py not found.\n",
      "File idterm.py not found.\n"
     ]
    }
   ],
   "source": [
    "fileLength('Filelength.txt')\n",
    "# 123  # (or whatever the file length is)\n",
    "fileLength('midterm.py') # we don't have the midterm file\n",
    "fileLength('idterm.py') # File idterm.py not found."
   ]
  },
  {
   "cell_type": "markdown",
   "id": "aec755d5",
   "metadata": {},
   "source": [
    "# Question:3"
   ]
  },
  {
   "cell_type": "markdown",
   "id": "4f51a91e",
   "metadata": {},
   "source": [
    "Write a class named Marsupial that can be used as shown below:\n",
    ">>> m = Marsupial()\n",
    ">>> m.put_in_pouch('doll')\n",
    ">>> m.put_in_pouch('firetruck')\n",
    ">>> m.put_in_pouch('kitten')\n",
    ">>> m.pouch_contents() ['doll', 'firetruck', 'kitten']\n",
    "\n",
    "Now write a class named Kangaroo as a subclass of Marsupial that inherits all the attributes of Marsupial and also:\n",
    "a. extends the Marsupial __init__ constructor to take, as input, the\n",
    "coordinates x and y of the Kangaroo object,\n",
    "b. supports method jump that takes number values dx and dy as input and moves the kangaroo by dx units along the x-axis and by dy units along the y- axis, and\n",
    "c. overloads the __str__ operator so it behaves as shown below.\n",
    ">>> k = Kangaroo(0,0)\n",
    ">>> print(k)\n",
    "I am a Kangaroo located at coordinates (0,0)\n",
    ">>> k.put_in_pouch('doll')\n",
    ">>> k.put_in_pouch('firetruck')\n",
    ">>> k.put_in_pouch('kitten')\n",
    ">>> k.pouch_contents() ['doll', 'firetruck', 'kitten']\n",
    ">>> k.jump(1,0)\n",
    ">>> k.jump(1,0)\n",
    ">>> k.jump(1,0)\n",
    ">>> print(k)\n",
    "I am a Kangaroo located at coordinates (3,0)"
   ]
  },
  {
   "cell_type": "markdown",
   "id": "f5fbe533",
   "metadata": {},
   "source": [
    "Answer Code:"
   ]
  },
  {
   "cell_type": "code",
   "execution_count": 27,
   "id": "0ac96580",
   "metadata": {},
   "outputs": [],
   "source": [
    "class Marsupial:\n",
    "    def __init__(self):\n",
    "        # Initialize an empty list for pouch contents\n",
    "        self.pouch = []\n",
    "\n",
    "    def put_in_pouch(self, item):\n",
    "        # Add the item to the pouch\n",
    "        self.pouch.append(item)\n",
    "\n",
    "    def pouch_contents(self):\n",
    "        # Return the contents of the pouch\n",
    "        return self.pouch\n",
    "\n",
    "\n",
    "class Kangaroo(Marsupial):\n",
    "    def __init__(self, x, y):\n",
    "        # Initialize the base class Marsupial\n",
    "        super().__init__()\n",
    "        # Set initial coordinates for the Kangaroo\n",
    "        self.x = x\n",
    "        self.y = y\n",
    "\n",
    "    def jump(self, dx, dy):\n",
    "        # Update coordinates based on dx and dy\n",
    "        self.x += dx\n",
    "        self.y += dy\n",
    "\n",
    "    def __str__(self):\n",
    "        # Overload the __str__ method to print the current coordinates\n",
    "        return f\"I am a Kangaroo located at coordinates ({self.x},{self.y})\"\n"
   ]
  },
  {
   "cell_type": "code",
   "execution_count": 29,
   "id": "095d291c",
   "metadata": {},
   "outputs": [
    {
     "name": "stdout",
     "output_type": "stream",
     "text": [
      "I am a Kangaroo located at coordinates (0,0)\n",
      "['doll', 'firetruck', 'kitten']\n",
      "I am a Kangaroo located at coordinates (3,0)\n"
     ]
    }
   ],
   "source": [
    "# Create a new Kangaroo object at (0, 0)\n",
    "k = Kangaroo(0, 0)\n",
    "print(k)  \n",
    "\n",
    "# Put items in the pouch\n",
    "k.put_in_pouch('doll')\n",
    "k.put_in_pouch('firetruck')\n",
    "k.put_in_pouch('kitten')\n",
    "print(k.pouch_contents())  \n",
    "\n",
    "# Make the kangaroo jump\n",
    "k.jump(1, 0)\n",
    "k.jump(1, 0)\n",
    "k.jump(1, 0)\n",
    "print(k)  "
   ]
  },
  {
   "cell_type": "markdown",
   "id": "fc17686d",
   "metadata": {},
   "source": [
    "# Question:4"
   ]
  },
  {
   "cell_type": "markdown",
   "id": "7491583d",
   "metadata": {},
   "source": [
    "Write function collatz() that takes a positive integer x as input and prints the Collatz sequence starting at x. A Collatz sequence is obtained by repeatedly applying this rule to the previous number x in the sequence:\n",
    "x = { 𝑥/2 𝑖𝑓 𝑥 𝑖𝑠 𝑒𝑣𝑒𝑛 3𝑥 + 1 𝑖𝑓 𝑥 𝑖𝑠 𝑜𝑑𝑑\n",
    "Your function should stop when the sequence gets to number 1. Your implementation must be recursive, without any loops.\n",
    ">>> collatz(1) 1\n",
    ">>> collatz(10) 10\n",
    "5\n",
    "16\n",
    "8\n",
    "4\n",
    "2\n",
    "1"
   ]
  },
  {
   "cell_type": "markdown",
   "id": "7fa32270",
   "metadata": {},
   "source": [
    "Answer Code:"
   ]
  },
  {
   "cell_type": "code",
   "execution_count": 35,
   "id": "2c9d7eb4",
   "metadata": {},
   "outputs": [],
   "source": [
    "def collatz(x):\n",
    "    # Printing the current value of x\n",
    "    print(x)\n",
    "    \n",
    "    # Base case: stop when x reaches 1\n",
    "    if x == 1:\n",
    "        return\n",
    "    # Recursive case for even x\n",
    "    elif x % 2 == 0:\n",
    "        collatz(x // 2)\n",
    "    # Recursive case for odd x\n",
    "    else:\n",
    "        collatz(3 * x + 1)\n"
   ]
  },
  {
   "cell_type": "code",
   "execution_count": 36,
   "id": "f2f0208f",
   "metadata": {},
   "outputs": [
    {
     "name": "stdout",
     "output_type": "stream",
     "text": [
      "printing values when x = 1\n",
      "1\n",
      "print the values when x = 10\n",
      "10\n",
      "5\n",
      "16\n",
      "8\n",
      "4\n",
      "2\n",
      "1\n"
     ]
    }
   ],
   "source": [
    "print(\"printing values when x = 1\")\n",
    "collatz(1)\n",
    "\n",
    "print(\"print the values when x = 10\")\n",
    "collatz(10)\n"
   ]
  },
  {
   "cell_type": "markdown",
   "id": "4ffa9263",
   "metadata": {},
   "source": [
    "# Question:5"
   ]
  },
  {
   "cell_type": "markdown",
   "id": "f95fcb31",
   "metadata": {},
   "source": [
    "Write a recursive method binary() that takes a non-negative integer n and prints the binary representation of integer n.\n",
    ">>> binary(0) 0\n",
    ">>> binary(1) 1\n",
    ">>> binary(3) 11\n",
    ">>> binary(9) 1001"
   ]
  },
  {
   "cell_type": "markdown",
   "id": "fe56eee0",
   "metadata": {},
   "source": [
    "Answer code:"
   ]
  },
  {
   "cell_type": "code",
   "execution_count": 39,
   "id": "4fb99a64",
   "metadata": {},
   "outputs": [],
   "source": [
    "def binary(n):\n",
    "    # Base case: if n is 0 or 1, print it directly\n",
    "    if n < 2:\n",
    "        print(n, end='')  # Print without a newline for recursion continuity\n",
    "    else:\n",
    "        # Recursive case: divide n by 2 and print remainder as binary digit\n",
    "        binary(n // 2)  # Recursive call for the next higher binary place\n",
    "        print(n % 2, end='')  # Print the remainder, which is the current binary digit"
   ]
  },
  {
   "cell_type": "code",
   "execution_count": 40,
   "id": "1a9617d3",
   "metadata": {},
   "outputs": [
    {
     "name": "stdout",
     "output_type": "stream",
     "text": [
      "01111001"
     ]
    }
   ],
   "source": [
    "binary(0) # it will give output 0\n",
    "\n",
    "binary(1) # it will give output 1\n",
    "\n",
    "binary(3) # it will give output 11\n",
    "\n",
    "binary(9) # it will give output 1001"
   ]
  },
  {
   "cell_type": "markdown",
   "id": "0c71e236",
   "metadata": {},
   "source": [
    "# Question:6"
   ]
  },
  {
   "cell_type": "markdown",
   "id": "59b0e06c",
   "metadata": {},
   "source": [
    "Implement a class named HeadingParser that can be used to parse an HTML document, and retrieve and print all the headings in the document. You should implement your class as a subclass of HTMLParser, defined in Standard Library module html.parser. When fed a string containing HTML code, your class should print the headings, one per line and in the order in which they appear in the document. Each heading should be indented as follows: an h1 heading should have indentation 0, and h2 heading should have indentation 1, etc. Test your implementation using w3c.html.\n",
    ">>> infile = open('w3c.html')\n",
    ">>> content = infile.read()\n",
    ">>> infile.close()\n",
    ">>> hp = HeadingParser()\n",
    ">>> hp.feed(content) W3C Mission Principles"
   ]
  },
  {
   "cell_type": "markdown",
   "id": "3d992b1d",
   "metadata": {},
   "source": [
    "Answer code:"
   ]
  },
  {
   "cell_type": "code",
   "execution_count": 46,
   "id": "6178f1b6",
   "metadata": {},
   "outputs": [
    {
     "name": "stdout",
     "output_type": "stream",
     "text": [
      "W3C Mission\n",
      " Principles\n"
     ]
    }
   ],
   "source": [
    "from html.parser import HTMLParser\n",
    "\n",
    "class HeadingParser(HTMLParser):\n",
    "    def __init__(self):\n",
    "        super().__init__()\n",
    "        self.in_heading = False\n",
    "        self.indentation = 0\n",
    "\n",
    "    def handle_starttag(self, tag, attrs):\n",
    "        # Check if the tag is a heading (h1, h2, ..., h6)\n",
    "        if tag in ['h1', 'h2', 'h3', 'h4', 'h5', 'h6']:\n",
    "            self.in_heading = True\n",
    "            # Determine indentation level based on heading level\n",
    "            self.indentation = int(tag[1]) - 1\n",
    "\n",
    "    def handle_endtag(self, tag):\n",
    "        # Reset the in_heading flag when closing a heading tag\n",
    "        if tag in ['h1', 'h2', 'h3', 'h4', 'h5', 'h6']:\n",
    "            self.in_heading = False\n",
    "\n",
    "    def handle_data(self, data):\n",
    "        # If currently inside a heading tag, print the data with indentation\n",
    "        if self.in_heading:\n",
    "            print(\" \" * self.indentation + data.strip())\n",
    "\n",
    "# Testing the implementation\n",
    "with open('w3c.txt') as infile:\n",
    "    content = infile.read()\n",
    "\n",
    "hp = HeadingParser()\n",
    "hp.feed(content)\n"
   ]
  },
  {
   "cell_type": "markdown",
   "id": "91168c65",
   "metadata": {},
   "source": [
    "# Question:7"
   ]
  },
  {
   "cell_type": "markdown",
   "id": "66363ba0",
   "metadata": {},
   "source": [
    "Implement recursive function webdir() that takes as input: a URL (as a string) and non-negative integers depth and indent. Your function should visit every web page reachable from the starting URL web page in depth clicks or less, and print each web page's URL. As shown below, indentation, specified by indent, should be used to indicate the depth of a URL.\n",
    ">>>\n",
    "webdir('http://reed.cs.depaul.edu/lperkovic/csc242/test1.html'\n",
    ", 2, 0)\n",
    "http://reed.cs.depaul.edu/lperkovic/csc242/test1.html http://reed.cs.depaul.edu/lperkovic/csc242/test2.html\n",
    "http://reed.cs.depaul.edu/lperkovic/csc242/test4.html http://reed.cs.depaul.edu/lperkovic/csc242/test3.html\n",
    "http://reed.cs.depaul.edu/lperkovic/csc242/test4.html"
   ]
  },
  {
   "cell_type": "code",
   "execution_count": 49,
   "id": "82c48fc2",
   "metadata": {},
   "outputs": [
    {
     "name": "stdout",
     "output_type": "stream",
     "text": [
      "http://reed.cs.depaul.edu/lperkovic/csc242/test1.html\n",
      "Error accessing http://reed.cs.depaul.edu/lperkovic/csc242/test1.html: 404 Client Error:  for url: http://reed.cs.depaul.edu/lperkovic/csc242/test1.html\n"
     ]
    }
   ],
   "source": [
    "import requests\n",
    "from bs4 import BeautifulSoup\n",
    "from urllib.parse import urljoin\n",
    "\n",
    "def webdir(url, depth, indent):\n",
    "    # Print the current URL with indentation\n",
    "    print(\" \" * indent + url)\n",
    "    \n",
    "    # Base case: stop recursion if depth is 0\n",
    "    if depth == 0:\n",
    "        return\n",
    "\n",
    "    try:\n",
    "        # Fetch the HTML content of the page\n",
    "        response = requests.get(url)\n",
    "        response.raise_for_status()\n",
    "        soup = BeautifulSoup(response.text, 'html.parser')\n",
    "\n",
    "        # Find all links on the page\n",
    "        for link in soup.find_all('a', href=True):\n",
    "            # Construct the full URL\n",
    "            full_url = urljoin(url, link['href'])\n",
    "            \n",
    "            # Recursively visit each link with updated depth and indent\n",
    "            webdir(full_url, depth - 1, indent + 4)\n",
    "\n",
    "    except requests.exceptions.RequestException as e:\n",
    "        # Handle potential request errors gracefully\n",
    "        print(\" \" * indent + f\"Error accessing {url}: {e}\")\n",
    "\n",
    "# Example \n",
    "webdir('http://reed.cs.depaul.edu/lperkovic/csc242/test1.html', 2, 0)\n"
   ]
  },
  {
   "cell_type": "markdown",
   "id": "9f8babe3",
   "metadata": {},
   "source": [
    "# Question:8"
   ]
  },
  {
   "cell_type": "markdown",
   "id": "77beb98a",
   "metadata": {},
   "source": [
    "Write SQL queries on the below database table that return:\n",
    "a) All the temperature data.\n",
    "b) All the cities, but without repetition.\n",
    "c) All the records for India.\n",
    "d) All the Fall records.\n",
    "e) The city, country, and season for which the average rainfall is between 200 and 400 millimeters.\n",
    "f) The city and country for which the average Fall temperature is above 20 degrees, in increasing temperature order.\n",
    "g) The total annual rainfall for Cairo.\n",
    "h) The total rainfall for each season.\n",
    "City Country Season Temperature (C) Rainfall (mm)\n",
    "Mumbai\n",
    "India\n",
    "Winter\n",
    "24.8\n",
    "5.9\n",
    "Mumbai\n",
    "India\n",
    "Spring\n",
    "28.4\n",
    "16.2\n",
    "Mumbai\n",
    "India\n",
    "Summer\n",
    "27.9\n",
    "1549.4\n",
    "Mumbai\n",
    "India\n",
    "Fall\n",
    "27.6\n",
    "346.0\n",
    "London\n",
    "United Kingdom\n",
    "Winter\n",
    "4.2\n",
    "207.7\n",
    "London\n",
    "United Kingdom\n",
    "Spring\n",
    "8.3\n",
    "169.6\n",
    "London\n",
    "United Kingdom\n",
    "Summer\n",
    "15.7\n",
    "157.0\n",
    "London\n",
    "United Kingdom\n",
    "Fall\n",
    "10.4\n",
    "218.5\n",
    "Cairo\n",
    "Egypt\n",
    "Winter\n",
    "13.6\n",
    "16.5\n",
    "Cairo\n",
    "Egypt\n",
    "Spring\n",
    "20.7\n",
    "6.5\n",
    "Cairo\n",
    "Egypt\n",
    "Summer\n",
    "27.7\n",
    "0.1\n",
    "Cairo\n",
    "Egypt\n",
    "Fall\n",
    "22.2\n",
    "4.5"
   ]
  },
  {
   "cell_type": "markdown",
   "id": "1ee2eb11",
   "metadata": {},
   "source": [
    "Answer code (SQL Queries):"
   ]
  },
  {
   "cell_type": "markdown",
   "id": "27a5dc5b",
   "metadata": {},
   "source": [
    "a) All the temperature data.\n",
    "SELECT Temperature \n",
    "FROM WeatherData;\n",
    "\n",
    "b) All the cities, but without repetition.\n",
    "SELECT DISTINCT City \n",
    "FROM WeatherData;\n",
    "\n",
    "c) All the records for India.\n",
    "SELECT * \n",
    "FROM WeatherData \n",
    "WHERE Country = 'India';\n",
    "\n",
    "d) All the Fall records.\n",
    "SELECT * \n",
    "FROM WeatherData \n",
    "WHERE Season = 'Fall';\n",
    "\n",
    "e) The city, country, and season for which the average rainfall is between 200 and 400 millimeters.\n",
    "SELECT City, Country, Season \n",
    "FROM WeatherData \n",
    "GROUP BY City, Country, Season \n",
    "HAVING AVG(Rainfall) BETWEEN 200 AND 400;\n",
    "\n",
    "f) The city and country for which the average Fall temperature is above 20 degrees, in increasing temperature order.\n",
    "SELECT City, Country \n",
    "FROM WeatherData \n",
    "WHERE Season = 'Fall' \n",
    "GROUP BY City, Country \n",
    "HAVING AVG(Temperature) > 20 \n",
    "ORDER BY AVG(Temperature) ASC;\n",
    "\n",
    "g) The total annual rainfall for Cairo.\n",
    "SELECT SUM(Rainfall) AS TotalAnnualRainfall \n",
    "FROM WeatherData \n",
    "WHERE City = 'Cairo';\n",
    "\n",
    "h) The total rainfall for each season.\n",
    "SELECT Season, SUM(Rainfall) AS TotalRainfall \n",
    "FROM WeatherData \n",
    "GROUP BY Season;\n"
   ]
  },
  {
   "cell_type": "markdown",
   "id": "f427863f",
   "metadata": {},
   "source": [
    "# Question:9"
   ]
  },
  {
   "cell_type": "markdown",
   "id": "c41d78c3",
   "metadata": {},
   "source": [
    "Suppose list words is defined as follows:\n",
    ">>> words = ['The', 'quick', 'brown', 'fox', 'jumps', 'over', 'the', 'lazy', 'dog']\n",
    "Write list comprehension expressions that use list words and generate the following lists:\n",
    "a) ['THE', 'QUICK', 'BROWN', 'FOX', 'JUMPS', 'OVER', 'THE', 'LAZY', 'DOG']\n",
    "b) ['the', 'quick', 'brown', 'fox', 'jumps', 'over', 'the', 'lazy', 'dog']\n",
    "c) [3, 5, 5, 3, 5, 4, 3, 4, 3] (the list of lengths of words in list\n",
    "words).\n",
    "d) [['THE', 'the', 3], ['QUICK', 'quick', 5], ['BROWN',\n",
    "'brown', 5], ['FOX', 'fox', 3], ['JUMPS', 'jumps', 5],\n",
    "['OVER', 'over', 4], ['THE', 'the', 3], ['LAZY', 'lazy',\n",
    "4], ['DOG', 'dog', 3]] (the list containing a list for every word of list words, where each list contains the word in uppercase and lowercase and the length of the word.)\n",
    "e) ['The', 'quick', 'brown', 'fox', 'jumps', 'over', 'the', 'lazy', 'dog'] (the list of words in list words containing 4 or more characters.)"
   ]
  },
  {
   "cell_type": "markdown",
   "id": "df7ff334",
   "metadata": {},
   "source": [
    "Answer code:"
   ]
  },
  {
   "cell_type": "code",
   "execution_count": 51,
   "id": "88c8ef63",
   "metadata": {},
   "outputs": [],
   "source": [
    "words = ['The', 'quick', 'brown', 'fox', 'jumps', 'over', 'the', 'lazy', 'dog']"
   ]
  },
  {
   "cell_type": "code",
   "execution_count": 71,
   "id": "a167f852",
   "metadata": {},
   "outputs": [
    {
     "data": {
      "text/plain": [
       "['THE', 'QUICK', 'BROWN', 'FOX', 'JUMPS', 'OVER', 'THE', 'LAZY', 'DOG']"
      ]
     },
     "execution_count": 71,
     "metadata": {},
     "output_type": "execute_result"
    }
   ],
   "source": [
    "# a)\n",
    "upper_words = [word.upper() for word in words]\n",
    "upper_words # to print the uppercase letters"
   ]
  },
  {
   "cell_type": "code",
   "execution_count": 72,
   "id": "cbfaff79",
   "metadata": {},
   "outputs": [
    {
     "data": {
      "text/plain": [
       "['the', 'quick', 'brown', 'fox', 'jumps', 'over', 'the', 'lazy', 'dog']"
      ]
     },
     "execution_count": 72,
     "metadata": {},
     "output_type": "execute_result"
    }
   ],
   "source": [
    "# b)\n",
    "lower_words = [word.lower() for word in words]\n",
    "lower_words # to print the lowercase letters"
   ]
  },
  {
   "cell_type": "code",
   "execution_count": 73,
   "id": "c12cfab5",
   "metadata": {},
   "outputs": [
    {
     "data": {
      "text/plain": [
       "[3, 5, 5, 3, 5, 4, 3, 4, 3]"
      ]
     },
     "execution_count": 73,
     "metadata": {},
     "output_type": "execute_result"
    }
   ],
   "source": [
    "# c)\n",
    "word_lengths = [len(word) for word in words]\n",
    "word_lengths # to print the letters of each word"
   ]
  },
  {
   "cell_type": "code",
   "execution_count": 74,
   "id": "96f13c5f",
   "metadata": {},
   "outputs": [
    {
     "data": {
      "text/plain": [
       "[['THE', 'the', 3],\n",
       " ['QUICK', 'quick', 5],\n",
       " ['BROWN', 'brown', 5],\n",
       " ['FOX', 'fox', 3],\n",
       " ['JUMPS', 'jumps', 5],\n",
       " ['OVER', 'over', 4],\n",
       " ['THE', 'the', 3],\n",
       " ['LAZY', 'lazy', 4],\n",
       " ['DOG', 'dog', 3]]"
      ]
     },
     "execution_count": 74,
     "metadata": {},
     "output_type": "execute_result"
    }
   ],
   "source": [
    "# d)\n",
    "word_info = [[word.upper(), word.lower(), len(word)] for word in words]\n",
    "word_info # to print uppercase, lowercase and word length all together"
   ]
  },
  {
   "cell_type": "code",
   "execution_count": 75,
   "id": "2b791cbd",
   "metadata": {},
   "outputs": [
    {
     "data": {
      "text/plain": [
       "['quick', 'brown', 'jumps', 'over', 'lazy']"
      ]
     },
     "execution_count": 75,
     "metadata": {},
     "output_type": "execute_result"
    }
   ],
   "source": [
    "# e)\n",
    "long_words = [word for word in words if len(word) >= 4]\n",
    "long_words # to print the words has a length or 4 or more"
   ]
  },
  {
   "cell_type": "code",
   "execution_count": null,
   "id": "29696ea4",
   "metadata": {},
   "outputs": [],
   "source": []
  }
 ],
 "metadata": {
  "kernelspec": {
   "display_name": "Python 3 (ipykernel)",
   "language": "python",
   "name": "python3"
  },
  "language_info": {
   "codemirror_mode": {
    "name": "ipython",
    "version": 3
   },
   "file_extension": ".py",
   "mimetype": "text/x-python",
   "name": "python",
   "nbconvert_exporter": "python",
   "pygments_lexer": "ipython3",
   "version": "3.11.5"
  }
 },
 "nbformat": 4,
 "nbformat_minor": 5
}
